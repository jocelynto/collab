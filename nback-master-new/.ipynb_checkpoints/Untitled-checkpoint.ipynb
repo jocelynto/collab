{
 "cells": [
  {
   "cell_type": "code",
   "execution_count": 9,
   "id": "herbal-graph",
   "metadata": {},
   "outputs": [],
   "source": [
    "import pygame\n",
    "import csv"
   ]
  },
  {
   "cell_type": "code",
   "execution_count": 12,
   "id": "multiple-substitute",
   "metadata": {},
   "outputs": [
    {
     "name": "stdout",
     "output_type": "stream",
     "text": [
      "s\n"
     ]
    },
    {
     "ename": "KeyboardInterrupt",
     "evalue": "",
     "output_type": "error",
     "traceback": [
      "\u001b[1;31m---------------------------------------------------------------------------\u001b[0m",
      "\u001b[1;31mKeyboardInterrupt\u001b[0m                         Traceback (most recent call last)",
      "\u001b[1;32m<ipython-input-12-78b798b180e0>\u001b[0m in \u001b[0;36m<module>\u001b[1;34m\u001b[0m\n\u001b[0;32m     19\u001b[0m \u001b[1;33m\u001b[0m\u001b[0m\n\u001b[0;32m     20\u001b[0m \u001b[1;32mwhile\u001b[0m \u001b[0mrunning\u001b[0m\u001b[1;33m:\u001b[0m\u001b[1;33m\u001b[0m\u001b[1;33m\u001b[0m\u001b[0m\n\u001b[1;32m---> 21\u001b[1;33m     \u001b[0mpassed_ms\u001b[0m \u001b[1;33m=\u001b[0m \u001b[0mclock\u001b[0m\u001b[1;33m.\u001b[0m\u001b[0mtick\u001b[0m\u001b[1;33m(\u001b[0m\u001b[0mFPS\u001b[0m\u001b[1;33m)\u001b[0m\u001b[1;33m\u001b[0m\u001b[1;33m\u001b[0m\u001b[0m\n\u001b[0m\u001b[0;32m     22\u001b[0m     \u001b[0mcount_ms\u001b[0m \u001b[1;33m+=\u001b[0m \u001b[0mpassed_ms\u001b[0m\u001b[1;33m\u001b[0m\u001b[1;33m\u001b[0m\u001b[0m\n\u001b[0;32m     23\u001b[0m     \u001b[1;32mif\u001b[0m \u001b[0mcount_ms\u001b[0m \u001b[1;33m>=\u001b[0m \u001b[0mpassed_ms\u001b[0m\u001b[1;33m:\u001b[0m\u001b[1;33m\u001b[0m\u001b[1;33m\u001b[0m\u001b[0m\n",
      "\u001b[1;31mKeyboardInterrupt\u001b[0m: "
     ]
    }
   ],
   "source": [
    "f = open('pedal.csv', 'w',newline='')\n",
    "writer = csv.writer(f,delimiter=',')\n",
    "writer.writerow(['time_ms', 'axis0', 'axis1', 'axis2', 'axis3'])\n",
    "\n",
    "clock = pygame.time.Clock()\n",
    "count_ms = 0\n",
    "FPS = 100\n",
    "\n",
    "axis1_0 = None\n",
    "\n",
    "start = False\n",
    "running = False\n",
    "\n",
    "while not start:\n",
    "    trigger = input()\n",
    "    if trigger == 's':\n",
    "        running = True\n",
    "        start = True\n",
    "\n",
    "while running:\n",
    "    passed_ms = clock.tick(FPS)\n",
    "    count_ms += passed_ms\n",
    "    if count_ms >= passed_ms:\n",
    "        count_ms = count_ms % 500\n",
    "        axis0 = 0.128374\n",
    "        axis1 = -0.1294813\n",
    "        axis2 = axis0 * axis1\n",
    "        axis3 = axis2 ** axis1 + axis0\n",
    "        writer.writerow([passed_ms, axis0, axis1, axis2, axis3])"
   ]
  },
  {
   "cell_type": "code",
   "execution_count": 1,
   "id": "boxed-talent",
   "metadata": {},
   "outputs": [],
   "source": [
    "import numpy as np"
   ]
  },
  {
   "cell_type": "code",
   "execution_count": 2,
   "id": "brazilian-stable",
   "metadata": {},
   "outputs": [],
   "source": [
    "# Choosing trials for each condition\n",
    "\n",
    "# congruent, match\n",
    "rows1 = np.arange(4)\n",
    "cond1 = np.random.choice(rows1,18,replace=True)\n",
    "\n",
    "# incongruent, match\n",
    "rows2 = np.arange(12)+4\n",
    "cond2 = np.random.choice(rows2,18,replace=True)\n",
    "\n",
    "# congruent, no match\n",
    "rows3 = np.arange(12)+16\n",
    "cond3 = np.random.choice(rows3,18,replace=True)\n",
    "\n",
    "# incongruent, no match\n",
    "rows4 = np.arange(36)+28\n",
    "cond4 = np.random.choice(rows4,18,replace=False)\n",
    "\n",
    "# neutral, match\n",
    "rows5 = np.arange(16)+64\n",
    "cond5 = np.random.choice(rows5,18,replace=True)\n",
    "\n",
    "# neutral, no match\n",
    "rows6 = np.arange(48)+80\n",
    "cond6 = np.random.choice(rows6,18,replace=False)"
   ]
  },
  {
   "cell_type": "code",
   "execution_count": 8,
   "id": "destroyed-myrtle",
   "metadata": {},
   "outputs": [],
   "source": [
    "order_idx = [0,1,2,0,1,2,0,1,2]\n",
    "np.random.shuffle(order_idx)"
   ]
  },
  {
   "cell_type": "code",
   "execution_count": 9,
   "id": "metropolitan-southeast",
   "metadata": {},
   "outputs": [
    {
     "name": "stdout",
     "output_type": "stream",
     "text": [
      "[0, 1, 2, 2, 1, 0, 1, 0, 2]\n"
     ]
    }
   ],
   "source": [
    "print(order_idx)"
   ]
  },
  {
   "cell_type": "code",
   "execution_count": 4,
   "id": "sought-edinburgh",
   "metadata": {},
   "outputs": [],
   "source": [
    "import numpy as np\n",
    "import pandas as pd"
   ]
  },
  {
   "cell_type": "code",
   "execution_count": 10,
   "id": "processed-implementation",
   "metadata": {},
   "outputs": [
    {
     "name": "stdout",
     "output_type": "stream",
     "text": [
      "[5 7]\n"
     ]
    }
   ],
   "source": [
    "run_idx = np.random.choice(8,2,replace=False)\n",
    "print(run_idx)"
   ]
  },
  {
   "cell_type": "code",
   "execution_count": 16,
   "id": "magnetic-chapter",
   "metadata": {},
   "outputs": [
    {
     "name": "stdout",
     "output_type": "stream",
     "text": [
      "[400, 401, 402, 403, 404, 405, 406, 407, 408, 409, 410, 411, 412, 413, 414, 415, 416, 417, 418, 419, 420, 421, 422, 423, 424, 425, 426, 427, 428, 429, 430, 431, 432, 433, 434, 435, 436, 437, 438, 439, 440, 441, 442, 443, 444, 445, 446, 447, 448, 449, 450, 451, 452, 453, 454, 455, 456, 457, 458, 459, 460, 461, 462, 463, 464, 465, 466, 467, 468, 469, 470, 471, 472, 473, 474, 475, 476, 477, 478, 479, 560, 561, 562, 563, 564, 565, 566, 567, 568, 569, 570, 571, 572, 573, 574, 575, 576, 577, 578, 579, 580, 581, 582, 583, 584, 585, 586, 587, 588, 589, 590, 591, 592, 593, 594, 595, 596, 597, 598, 599, 600, 601, 602, 603, 604, 605, 606, 607, 608, 609, 610, 611, 612, 613, 614, 615, 616, 617, 618, 619, 620, 621, 622, 623, 624, 625, 626, 627, 628, 629, 630, 631, 632, 633, 634, 635, 636, 637, 638, 639]\n"
     ]
    }
   ],
   "source": [
    "run_block_idx_1 = list(range(80*run_idx[0],80*run_idx[0]+80))\n",
    "run_block_idx_2 = list(range(80*run_idx[1],80*run_idx[1]+80))\n",
    "run_rows = run_block_idx_1 + run_block_idx_2\n",
    "print(run_rows)"
   ]
  },
  {
   "cell_type": "code",
   "execution_count": 17,
   "id": "starting-accent",
   "metadata": {},
   "outputs": [
    {
     "name": "stdout",
     "output_type": "stream",
     "text": [
      "[400, 401, 402, 403, 404, 405, 406, 407, 408, 409] [410, 411, 412, 413, 414, 415, 416, 417, 418, 419]\n",
      "[420, 421, 422, 423, 424, 425, 426, 427, 428, 429] [430, 431, 432, 433, 434, 435, 436, 437, 438, 439]\n",
      "[440, 441, 442, 443, 444, 445, 446, 447, 448, 449] [450, 451, 452, 453, 454, 455, 456, 457, 458, 459]\n",
      "[460, 461, 462, 463, 464, 465, 466, 467, 468, 469] [470, 471, 472, 473, 474, 475, 476, 477, 478, 479]\n",
      "[560, 561, 562, 563, 564, 565, 566, 567, 568, 569] [570, 571, 572, 573, 574, 575, 576, 577, 578, 579]\n",
      "[580, 581, 582, 583, 584, 585, 586, 587, 588, 589] [590, 591, 592, 593, 594, 595, 596, 597, 598, 599]\n",
      "[600, 601, 602, 603, 604, 605, 606, 607, 608, 609] [610, 611, 612, 613, 614, 615, 616, 617, 618, 619]\n",
      "[620, 621, 622, 623, 624, 625, 626, 627, 628, 629] [630, 631, 632, 633, 634, 635, 636, 637, 638, 639]\n"
     ]
    }
   ],
   "source": [
    "for n in range(8):\n",
    "    print(run_rows[20*n:20*n+10], run_rows[20*n+10:20*n+20])"
   ]
  },
  {
   "cell_type": "code",
   "execution_count": 18,
   "id": "ancient-education",
   "metadata": {},
   "outputs": [],
   "source": [
    "dataframe = pd.read_excel(\"trialTypes.xlsx\")"
   ]
  },
  {
   "cell_type": "code",
   "execution_count": 25,
   "id": "nervous-counter",
   "metadata": {},
   "outputs": [
    {
     "name": "stdout",
     "output_type": "stream",
     "text": [
      "['2-Back', '0-Back', '2-Back', '0-Back', '2-Back', '0-Back', '2-Back', '0-Back', '2-Back', '2-Back', '0-Back', '2-Back', '0-Back', '0-Back', '2-Back', '0-Back']\n"
     ]
    }
   ],
   "source": [
    "# target_ls_1 = dataframe.loc[(dataframe['Run'] == run_idx[0]+1, 'Stimulus'].to_list()\n",
    "# target_ls_2 = dataframe.loc[dataframe['Run'] == run_idx[1]+1, 'Stimulus'].to_list()\n",
    "# target_ls = target_ls_1 + target_ls_2\n",
    "\n",
    "rules_ls_1 = dataframe.loc[dataframe['Run'] == run_idx[0]+1, 'BlockType'].to_list()\n",
    "rules_ls_2 = dataframe.loc[dataframe['Run'] == run_idx[1]+1, 'BlockType'].to_list()\n",
    "rules_ls = rules_ls_1[0::10] + rules_ls_2[0::10]\n",
    "print(rules_ls)"
   ]
  },
  {
   "cell_type": "code",
   "execution_count": 60,
   "id": "monthly-snake",
   "metadata": {},
   "outputs": [
    {
     "name": "stdout",
     "output_type": "stream",
     "text": [
      "    Run  Block  Weight       Stimulus TargetType CorrectResponse StimType  \\\n",
      "50    1      6       1  FC_010_F5.png    nonlure       nontarget     Face   \n",
      "51    1      6       1  FC_012_F6.png    nonlure       nontarget     Face   \n",
      "52    1      6       1  FC_010_F5.png     target          target     Face   \n",
      "53    1      6       1  FC_008_F4.png    nonlure       nontarget     Face   \n",
      "54    1      6       1  FC_012_F6.png       lure       nontarget     Face   \n",
      "55    1      6       1  FC_008_F4.png     target          target     Face   \n",
      "56    1      6       1  FC_007_M4.png    nonlure       nontarget     Face   \n",
      "57    1      6       1  FC_007_M4.png       lure       nontarget     Face   \n",
      "58    1      6       1  FC_009_M5.png    nonlure       nontarget     Face   \n",
      "59    1      6       1  FC_011_M6.png    nonlure       nontarget     Face   \n",
      "\n",
      "   BlockType  \n",
      "50    2-Back  \n",
      "51    2-Back  \n",
      "52    2-Back  \n",
      "53    2-Back  \n",
      "54    2-Back  \n",
      "55    2-Back  \n",
      "56    2-Back  \n",
      "57    2-Back  \n",
      "58    2-Back  \n",
      "59    2-Back  \n"
     ]
    }
   ],
   "source": [
    "# data = dataframe[0:20]\n",
    "# print(data)\n",
    "\n",
    "target_stim_name = dataframe[50:60]#.loc[dataframe['CorrectResponse'] == 'target','Stimulus']\n",
    "print(target_stim_name)"
   ]
  },
  {
   "cell_type": "code",
   "execution_count": 61,
   "id": "streaming-mongolia",
   "metadata": {},
   "outputs": [
    {
     "name": "stdout",
     "output_type": "stream",
     "text": [
      "['2-Back', '0-Back', '2-Back', '0-Back', '2-Back', '0-Back', '2-Back', '0-Back', '2-Back', '2-Back', '0-Back', '2-Back', '0-Back', '0-Back', '2-Back', '0-Back']\n"
     ]
    }
   ],
   "source": [
    "print(rules_ls)"
   ]
  },
  {
   "cell_type": "code",
   "execution_count": 57,
   "id": "automatic-mystery",
   "metadata": {},
   "outputs": [
    {
     "name": "stdout",
     "output_type": "stream",
     "text": [
      "155    PL_021_SCENE_07.png\n",
      "156    PL_021_SCENE_07.png\n",
      "Name: Stimulus, dtype: object\n",
      "10 20\n",
      "11    FC_001_M1.png\n",
      "15    FC_001_M1.png\n",
      "Name: Stimulus, dtype: object\n",
      "11    FC_001_M1.png\n",
      "15    FC_001_M1.png\n",
      "Name: Stimulus, dtype: object\n",
      "30 40\n",
      "30    BP_007_BP20_BA.png\n",
      "38    BP_007_BP20_BA.png\n",
      "Name: Stimulus, dtype: object\n",
      "30    BP_007_BP20_BA.png\n",
      "38    BP_007_BP20_BA.png\n",
      "Name: Stimulus, dtype: object\n",
      "50 60\n",
      "52    FC_010_F5.png\n",
      "55    FC_008_F4.png\n",
      "Name: Stimulus, dtype: object\n",
      "52    FC_010_F5.png\n",
      "55    FC_008_F4.png\n",
      "Name: Stimulus, dtype: object\n",
      "70 80\n",
      "74    PL_010_92038.png\n",
      "75    PL_009_92037.png\n",
      "Name: Stimulus, dtype: object\n",
      "74    PL_010_92038.png\n",
      "75    PL_009_92037.png\n",
      "Name: Stimulus, dtype: object\n",
      "74    PL_010_92038.png\n",
      "75    PL_009_92037.png\n",
      "Name: Stimulus, dtype: object\n",
      "100 110\n",
      "108    FC_013_M7.png\n",
      "109    FC_014_F7.png\n",
      "Name: Stimulus, dtype: object\n",
      "108    FC_013_M7.png\n",
      "109    FC_014_F7.png\n",
      "Name: Stimulus, dtype: object\n",
      "120 130\n",
      "122    BP_020_H17-T_BA.png\n",
      "123    BP_019_H14-T_BA.png\n",
      "Name: Stimulus, dtype: object\n",
      "130 140\n",
      "135    PL_016_SCENE_02.png\n",
      "136    PL_015_SCENE_01.png\n",
      "Name: Stimulus, dtype: object\n",
      "135    PL_016_SCENE_02.png\n",
      "136    PL_015_SCENE_01.png\n",
      "Name: Stimulus, dtype: object\n",
      "150 160\n",
      "155    PL_021_SCENE_07.png\n",
      "156    PL_021_SCENE_07.png\n",
      "Name: Stimulus, dtype: object\n"
     ]
    }
   ],
   "source": [
    "target_ls = []\n",
    "for idx, rule in enumerate(rules_ls):\n",
    "#     if rule == '2-Back':\n",
    "#         target_stim_name = dataframe['Stimulus'][10*idx]\n",
    "    if rule == '0-Back':\n",
    "        target_stim_name = dataframe[10*idx:10*idx+10].loc[dataframe['CorrectResponse'] == 'target','Stimulus']\n",
    "        print(10*idx,10*idx+10)\n",
    "        \n",
    "#     target_ls.append(target_stim_name)\n",
    "#     print(idx)\n",
    "    print(target_stim_name)"
   ]
  },
  {
   "cell_type": "code",
   "execution_count": 50,
   "id": "precise-raising",
   "metadata": {},
   "outputs": [
    {
     "name": "stdout",
     "output_type": "stream",
     "text": [
      "['BP_002_BP10_BA.png', 11    FC_001_M1.png\n",
      "15    FC_001_M1.png\n",
      "Name: Stimulus, dtype: object, 'TO_001_TOOL1_BA.png', 30    BP_007_BP20_BA.png\n",
      "38    BP_007_BP20_BA.png\n",
      "Name: Stimulus, dtype: object, 'PL_003_92016.png', 52    FC_010_F5.png\n",
      "55    FC_008_F4.png\n",
      "Name: Stimulus, dtype: object, 'TO_010_TOOL10_BA.png', 74    PL_010_92038.png\n",
      "75    PL_009_92037.png\n",
      "Name: Stimulus, dtype: object, 'TO_014_TOOL14_BA.png', 'BP_015_H10-T_BA.png', 108    FC_013_M7.png\n",
      "109    FC_014_F7.png\n",
      "Name: Stimulus, dtype: object, 'TO_019_TOOL19_BA.png', 122    BP_020_H17-T_BA.png\n",
      "123    BP_019_H14-T_BA.png\n",
      "Name: Stimulus, dtype: object, 135    PL_016_SCENE_02.png\n",
      "136    PL_015_SCENE_01.png\n",
      "Name: Stimulus, dtype: object, 'FC_024_F12.png', 155    PL_021_SCENE_07.png\n",
      "156    PL_021_SCENE_07.png\n",
      "Name: Stimulus, dtype: object]\n"
     ]
    }
   ],
   "source": [
    "print(target_ls)"
   ]
  },
  {
   "cell_type": "code",
   "execution_count": 24,
   "id": "processed-military",
   "metadata": {},
   "outputs": [
    {
     "name": "stdout",
     "output_type": "stream",
     "text": [
      "0\n",
      "FC_063_M32.png\n",
      "20\n",
      "BP_063_BODY_02_BA.png\n",
      "40\n",
      "TO_065_TOOL65_BA.png\n",
      "60\n",
      "PL_072_P50.1.png\n",
      "80\n",
      "PL_089_O45.1.png\n",
      "100\n",
      "BP_087_BODY_26_BA.png\n",
      "120\n",
      "TO_095_TOOL95_BA.png\n",
      "140\n",
      "BP_094_BODY_36_BA.png\n"
     ]
    }
   ],
   "source": [
    "for n in range(8):\n",
    "    print(n*20)\n",
    "    target_im = target_ls[n*20]\n",
    "    print(target_im)"
   ]
  },
  {
   "cell_type": "code",
   "execution_count": null,
   "id": "green-tracker",
   "metadata": {},
   "outputs": [],
   "source": []
  }
 ],
 "metadata": {
  "kernelspec": {
   "display_name": "Python 3",
   "language": "python",
   "name": "python3"
  },
  "language_info": {
   "codemirror_mode": {
    "name": "ipython",
    "version": 3
   },
   "file_extension": ".py",
   "mimetype": "text/x-python",
   "name": "python",
   "nbconvert_exporter": "python",
   "pygments_lexer": "ipython3",
   "version": "3.9.1"
  }
 },
 "nbformat": 4,
 "nbformat_minor": 5
}
