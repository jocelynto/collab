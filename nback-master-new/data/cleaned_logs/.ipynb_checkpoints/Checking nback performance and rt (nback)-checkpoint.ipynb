{
 "cells": [
  {
   "cell_type": "code",
   "execution_count": 1,
   "id": "ebf0ea5e-b9f1-4b24-9862-a6ba2f0d4108",
   "metadata": {},
   "outputs": [],
   "source": [
    "import pandas as pd\n",
    "import numpy as np\n"
   ]
  },
  {
   "cell_type": "code",
   "execution_count": 2,
   "id": "3b23df91-3074-4b23-8d7a-84d0a7ba0a3f",
   "metadata": {},
   "outputs": [],
   "source": [
    "pilot_data = ['Gianna_ZB216_nback-master-new_2024-02-27_14h38.30.944.csv', \\\n",
    "              'Liu_Teng_ZB216_nback-master-new_2024-02-27_15h52.41.099.csv', \\\n",
    "              'Sabrina_ZB216_nback-master-new_2024-02-27_16h56.28.217.csv']"
   ]
  },
  {
   "cell_type": "code",
   "execution_count": null,
   "id": "tribal-spending",
   "metadata": {},
   "outputs": [],
   "source": []
  },
  {
   "cell_type": "code",
   "execution_count": 74,
   "id": "acb82d4c-953c-4f11-861e-75bd15a79bd8",
   "metadata": {},
   "outputs": [],
   "source": [
    "rt_2back_ls = []\n",
    "rt_0back_ls = []\n",
    "corr_2back = []\n",
    "corr_0back = []\n",
    "incorr_2back = []\n",
    "incorr_0back = []\n",
    "missed_2back = []\n",
    "missed_0back = []\n",
    "\n",
    "for file_no in range(len(pilot_data)):\n",
    "    with open(pilot_data[file_no],\"r\") as file:\n",
    "        df = pd.read_csv(file)\n",
    "#         print(list(df.columns.values))\n",
    "        df_2back = df.loc[df.block_type == '2-Back']\n",
    "        df_0back = df.loc[df.block_type == '0-Back']\n",
    "        \n",
    "        rt_2back = df_2back['key_resp_rt'].mean()\n",
    "        rt_0back = df_0back['key_resp_rt'].mean()\n",
    "        rt_2back_ls.append(rt_2back)\n",
    "        rt_0back_ls.append(rt_0back)\n",
    "        \n",
    "        corr_count_2back = df_2back.loc[df.corr_var == 1, 'corr_var'].sum()\n",
    "        corr_count_0back = df_0back.loc[df.corr_var == 1, 'corr_var'].sum()\n",
    "        missed_count_2back = df_2back.loc[(df.key_resp != 1) & (df.key_resp != 2), 'corr_var'].count()\n",
    "        missed_count_0back = df_0back.loc[(df.key_resp != 1) & (df.key_resp != 2), 'corr_var'].count()\n",
    "        incorr_count_2back = df_2back.loc[df.corr_var == 0, 'corr_var'].count() - missed_count_2back\n",
    "        incorr_count_0back = df_0back.loc[df.corr_var == 0, 'corr_var'].count() - missed_count_0back\n",
    "        \n",
    "        corr_2back.append(corr_count_2back)\n",
    "        corr_0back.append(corr_count_0back)\n",
    "        incorr_2back.append(incorr_count_2back)\n",
    "        incorr_0back.append(incorr_count_0back)\n",
    "        missed_2back.append(missed_count_2back)\n",
    "        missed_0back.append(missed_count_0back)"
   ]
  },
  {
   "cell_type": "code",
   "execution_count": 75,
   "id": "e0fec8f3-2f86-493e-aca1-a4bec555a3e6",
   "metadata": {},
   "outputs": [
    {
     "name": "stdout",
     "output_type": "stream",
     "text": [
      "[0.9691716883627867, 0.7338295824891248, 1.1799792162521043]\n",
      "[1.0147901818703546, 0.7824842324997008, 0.8947552576935731]\n"
     ]
    }
   ],
   "source": [
    "print(rt_2back_ls)\n",
    "print(rt_0back_ls)"
   ]
  },
  {
   "cell_type": "code",
   "execution_count": 76,
   "id": "a4561126-827e-4908-a979-e786055cb4c9",
   "metadata": {},
   "outputs": [
    {
     "name": "stdout",
     "output_type": "stream",
     "text": [
      "[52, 54, 60]\n",
      "[61, 62, 49]\n",
      "[25, 26, 20]\n",
      "[16, 18, 29]\n",
      "[3, 0, 0]\n",
      "[3, 0, 2]\n"
     ]
    }
   ],
   "source": [
    "print(corr_2back)\n",
    "print(corr_0back)\n",
    "print(incorr_2back)\n",
    "print(incorr_0back)\n",
    "print(missed_2back)\n",
    "print(missed_0back)"
   ]
  },
  {
   "cell_type": "code",
   "execution_count": null,
   "id": "later-acrylic",
   "metadata": {},
   "outputs": [],
   "source": []
  }
 ],
 "metadata": {
  "kernelspec": {
   "display_name": "Python 3",
   "language": "python",
   "name": "python3"
  },
  "language_info": {
   "codemirror_mode": {
    "name": "ipython",
    "version": 3
   },
   "file_extension": ".py",
   "mimetype": "text/x-python",
   "name": "python",
   "nbconvert_exporter": "python",
   "pygments_lexer": "ipython3",
   "version": "3.9.1"
  }
 },
 "nbformat": 4,
 "nbformat_minor": 5
}
