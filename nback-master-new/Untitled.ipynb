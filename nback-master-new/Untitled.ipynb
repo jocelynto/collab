{
 "cells": [
  {
   "cell_type": "code",
   "execution_count": 9,
   "id": "herbal-graph",
   "metadata": {},
   "outputs": [],
   "source": [
    "import pygame\n",
    "import csv"
   ]
  },
  {
   "cell_type": "code",
   "execution_count": 12,
   "id": "multiple-substitute",
   "metadata": {},
   "outputs": [
    {
     "name": "stdout",
     "output_type": "stream",
     "text": [
      "s\n"
     ]
    },
    {
     "ename": "KeyboardInterrupt",
     "evalue": "",
     "output_type": "error",
     "traceback": [
      "\u001b[1;31m---------------------------------------------------------------------------\u001b[0m",
      "\u001b[1;31mKeyboardInterrupt\u001b[0m                         Traceback (most recent call last)",
      "\u001b[1;32m<ipython-input-12-78b798b180e0>\u001b[0m in \u001b[0;36m<module>\u001b[1;34m\u001b[0m\n\u001b[0;32m     19\u001b[0m \u001b[1;33m\u001b[0m\u001b[0m\n\u001b[0;32m     20\u001b[0m \u001b[1;32mwhile\u001b[0m \u001b[0mrunning\u001b[0m\u001b[1;33m:\u001b[0m\u001b[1;33m\u001b[0m\u001b[1;33m\u001b[0m\u001b[0m\n\u001b[1;32m---> 21\u001b[1;33m     \u001b[0mpassed_ms\u001b[0m \u001b[1;33m=\u001b[0m \u001b[0mclock\u001b[0m\u001b[1;33m.\u001b[0m\u001b[0mtick\u001b[0m\u001b[1;33m(\u001b[0m\u001b[0mFPS\u001b[0m\u001b[1;33m)\u001b[0m\u001b[1;33m\u001b[0m\u001b[1;33m\u001b[0m\u001b[0m\n\u001b[0m\u001b[0;32m     22\u001b[0m     \u001b[0mcount_ms\u001b[0m \u001b[1;33m+=\u001b[0m \u001b[0mpassed_ms\u001b[0m\u001b[1;33m\u001b[0m\u001b[1;33m\u001b[0m\u001b[0m\n\u001b[0;32m     23\u001b[0m     \u001b[1;32mif\u001b[0m \u001b[0mcount_ms\u001b[0m \u001b[1;33m>=\u001b[0m \u001b[0mpassed_ms\u001b[0m\u001b[1;33m:\u001b[0m\u001b[1;33m\u001b[0m\u001b[1;33m\u001b[0m\u001b[0m\n",
      "\u001b[1;31mKeyboardInterrupt\u001b[0m: "
     ]
    }
   ],
   "source": [
    "f = open('pedal.csv', 'w',newline='')\n",
    "writer = csv.writer(f,delimiter=',')\n",
    "writer.writerow(['time_ms', 'axis0', 'axis1', 'axis2', 'axis3'])\n",
    "\n",
    "clock = pygame.time.Clock()\n",
    "count_ms = 0\n",
    "FPS = 100\n",
    "\n",
    "axis1_0 = None\n",
    "\n",
    "start = False\n",
    "running = False\n",
    "\n",
    "while not start:\n",
    "    trigger = input()\n",
    "    if trigger == 's':\n",
    "        running = True\n",
    "        start = True\n",
    "\n",
    "while running:\n",
    "    passed_ms = clock.tick(FPS)\n",
    "    count_ms += passed_ms\n",
    "    if count_ms >= passed_ms:\n",
    "        count_ms = count_ms % 500\n",
    "        axis0 = 0.128374\n",
    "        axis1 = -0.1294813\n",
    "        axis2 = axis0 * axis1\n",
    "        axis3 = axis2 ** axis1 + axis0\n",
    "        writer.writerow([passed_ms, axis0, axis1, axis2, axis3])"
   ]
  },
  {
   "cell_type": "code",
   "execution_count": 1,
   "id": "boxed-talent",
   "metadata": {},
   "outputs": [],
   "source": [
    "import numpy as np"
   ]
  },
  {
   "cell_type": "code",
   "execution_count": 2,
   "id": "brazilian-stable",
   "metadata": {},
   "outputs": [],
   "source": [
    "# Choosing trials for each condition\n",
    "\n",
    "# congruent, match\n",
    "rows1 = np.arange(4)\n",
    "cond1 = np.random.choice(rows1,18,replace=True)\n",
    "\n",
    "# incongruent, match\n",
    "rows2 = np.arange(12)+4\n",
    "cond2 = np.random.choice(rows2,18,replace=True)\n",
    "\n",
    "# congruent, no match\n",
    "rows3 = np.arange(12)+16\n",
    "cond3 = np.random.choice(rows3,18,replace=True)\n",
    "\n",
    "# incongruent, no match\n",
    "rows4 = np.arange(36)+28\n",
    "cond4 = np.random.choice(rows4,18,replace=False)\n",
    "\n",
    "# neutral, match\n",
    "rows5 = np.arange(16)+64\n",
    "cond5 = np.random.choice(rows5,18,replace=True)\n",
    "\n",
    "# neutral, no match\n",
    "rows6 = np.arange(48)+80\n",
    "cond6 = np.random.choice(rows6,18,replace=False)"
   ]
  },
  {
   "cell_type": "code",
   "execution_count": 8,
   "id": "destroyed-myrtle",
   "metadata": {},
   "outputs": [],
   "source": [
    "order_idx = [0,1,2,0,1,2,0,1,2]\n",
    "np.random.shuffle(order_idx)"
   ]
  },
  {
   "cell_type": "code",
   "execution_count": 9,
   "id": "metropolitan-southeast",
   "metadata": {},
   "outputs": [
    {
     "name": "stdout",
     "output_type": "stream",
     "text": [
      "[0, 1, 2, 2, 1, 0, 1, 0, 2]\n"
     ]
    }
   ],
   "source": [
    "print(order_idx)"
   ]
  },
  {
   "cell_type": "code",
   "execution_count": 6,
   "id": "sought-edinburgh",
   "metadata": {},
   "outputs": [],
   "source": [
    "import numpy as np\n",
    "import pandas as pd"
   ]
  },
  {
   "cell_type": "code",
   "execution_count": 2,
   "id": "processed-implementation",
   "metadata": {},
   "outputs": [
    {
     "name": "stdout",
     "output_type": "stream",
     "text": [
      "[5, 7]\n"
     ]
    }
   ],
   "source": [
    "run_idx = np.random.choice(8,2,replace=False)\n",
    "# run_idx = [5,7]\n",
    "print(run_idx)"
   ]
  },
  {
   "cell_type": "code",
   "execution_count": 3,
   "id": "magnetic-chapter",
   "metadata": {},
   "outputs": [
    {
     "name": "stdout",
     "output_type": "stream",
     "text": [
      "[400, 401, 402, 403, 404, 405, 406, 407, 408, 409, 410, 411, 412, 413, 414, 415, 416, 417, 418, 419, 420, 421, 422, 423, 424, 425, 426, 427, 428, 429, 430, 431, 432, 433, 434, 435, 436, 437, 438, 439, 440, 441, 442, 443, 444, 445, 446, 447, 448, 449, 450, 451, 452, 453, 454, 455, 456, 457, 458, 459, 460, 461, 462, 463, 464, 465, 466, 467, 468, 469, 470, 471, 472, 473, 474, 475, 476, 477, 478, 479, 560, 561, 562, 563, 564, 565, 566, 567, 568, 569, 570, 571, 572, 573, 574, 575, 576, 577, 578, 579, 580, 581, 582, 583, 584, 585, 586, 587, 588, 589, 590, 591, 592, 593, 594, 595, 596, 597, 598, 599, 600, 601, 602, 603, 604, 605, 606, 607, 608, 609, 610, 611, 612, 613, 614, 615, 616, 617, 618, 619, 620, 621, 622, 623, 624, 625, 626, 627, 628, 629, 630, 631, 632, 633, 634, 635, 636, 637, 638, 639]\n"
     ]
    }
   ],
   "source": [
    "run_block_idx_1 = list(range(80*run_idx[0],80*run_idx[0]+80))\n",
    "run_block_idx_2 = list(range(80*run_idx[1],80*run_idx[1]+80))\n",
    "run_rows = run_block_idx_1 + run_block_idx_2\n",
    "print(run_rows)"
   ]
  },
  {
   "cell_type": "code",
   "execution_count": 4,
   "id": "starting-accent",
   "metadata": {},
   "outputs": [
    {
     "name": "stdout",
     "output_type": "stream",
     "text": [
      "[400, 401, 402, 403, 404, 405, 406, 407, 408, 409] [410, 411, 412, 413, 414, 415, 416, 417, 418, 419]\n",
      "[420, 421, 422, 423, 424, 425, 426, 427, 428, 429] [430, 431, 432, 433, 434, 435, 436, 437, 438, 439]\n",
      "[440, 441, 442, 443, 444, 445, 446, 447, 448, 449] [450, 451, 452, 453, 454, 455, 456, 457, 458, 459]\n",
      "[460, 461, 462, 463, 464, 465, 466, 467, 468, 469] [470, 471, 472, 473, 474, 475, 476, 477, 478, 479]\n",
      "[560, 561, 562, 563, 564, 565, 566, 567, 568, 569] [570, 571, 572, 573, 574, 575, 576, 577, 578, 579]\n",
      "[580, 581, 582, 583, 584, 585, 586, 587, 588, 589] [590, 591, 592, 593, 594, 595, 596, 597, 598, 599]\n",
      "[600, 601, 602, 603, 604, 605, 606, 607, 608, 609] [610, 611, 612, 613, 614, 615, 616, 617, 618, 619]\n",
      "[620, 621, 622, 623, 624, 625, 626, 627, 628, 629] [630, 631, 632, 633, 634, 635, 636, 637, 638, 639]\n"
     ]
    }
   ],
   "source": [
    "for n in range(8):\n",
    "    print(run_rows[20*n:20*n+10], run_rows[20*n+10:20*n+20])"
   ]
  },
  {
   "cell_type": "code",
   "execution_count": 7,
   "id": "ancient-education",
   "metadata": {},
   "outputs": [],
   "source": [
    "dataframe = pd.read_excel(\"trialTypes.xlsx\")"
   ]
  },
  {
   "cell_type": "code",
   "execution_count": 8,
   "id": "nervous-counter",
   "metadata": {},
   "outputs": [
    {
     "name": "stdout",
     "output_type": "stream",
     "text": [
      "['2-Back', '0-Back', '2-Back', '0-Back', '2-Back', '0-Back', '2-Back', '0-Back', '2-Back', '2-Back', '0-Back', '2-Back', '0-Back', '0-Back', '2-Back', '0-Back']\n"
     ]
    }
   ],
   "source": [
    "# target_ls_1 = dataframe.loc[(dataframe['Run'] == run_idx[0]+1, 'Stimulus'].to_list()\n",
    "# target_ls_2 = dataframe.loc[dataframe['Run'] == run_idx[1]+1, 'Stimulus'].to_list()\n",
    "# target_ls = target_ls_1 + target_ls_2\n",
    "\n",
    "rules_ls_1 = dataframe.loc[dataframe['Run'] == run_idx[0]+1, 'BlockType'].to_list()\n",
    "rules_ls_2 = dataframe.loc[dataframe['Run'] == run_idx[1]+1, 'BlockType'].to_list()\n",
    "rules_ls = rules_ls_1[0::10] + rules_ls_2[0::10]\n",
    "print(rules_ls)"
   ]
  },
  {
   "cell_type": "code",
   "execution_count": 21,
   "id": "monthly-snake",
   "metadata": {},
   "outputs": [
    {
     "name": "stdout",
     "output_type": "stream",
     "text": [
      "410 419\n",
      "PL_065_P0.1.png\n"
     ]
    }
   ],
   "source": [
    "# data = dataframe[0:20]\n",
    "# print(data)\n",
    "min_range = min(run_rows[10*:10*1+10])\n",
    "max_range = max(run_rows[10*1:10*1+10])\n",
    "print(min_range,max_range)\n",
    "\n",
    "target_stim_name = dataframe[min_range:max_range].loc[dataframe['CorrectResponse'] == 'target','Stimulus'].iloc[0]\n",
    "# target_stim_name = dataframe['Stimulus'][10*0]\n",
    "print(target_stim_name)"
   ]
  },
  {
   "cell_type": "code",
   "execution_count": 9,
   "id": "streaming-mongolia",
   "metadata": {},
   "outputs": [
    {
     "name": "stdout",
     "output_type": "stream",
     "text": [
      "['2-Back', '0-Back', '2-Back', '0-Back', '2-Back', '0-Back', '2-Back', '0-Back', '2-Back', '2-Back', '0-Back', '2-Back', '0-Back', '0-Back', '2-Back', '0-Back']\n"
     ]
    }
   ],
   "source": [
    "print(rules_ls)"
   ]
  },
  {
   "cell_type": "code",
   "execution_count": 27,
   "id": "automatic-mystery",
   "metadata": {},
   "outputs": [
    {
     "name": "stdout",
     "output_type": "stream",
     "text": [
      "410 419\n",
      "430 439\n",
      "450 459\n",
      "470 479\n",
      "580 589\n",
      "600 609\n",
      "610 619\n",
      "630 639\n",
      "['FC_063_M32.png', 'PL_065_P0.1.png', 'BP_063_BODY_02_BA.png', 'FC_068_F34.png', 'TO_065_TOOL65_BA.png', 'BP_068_BODY_07_BA.png', 'PL_072_P50.1.png', 'TO_067_TOOL67_BA.png', 'PL_089_O45.1.png', 'TO_085_TOOL85_BA.png', 'BP_086_BODY_25_BA.png', 'FC_089_M45.png', 'TO_091_TOOL91_BA.png', 'PL_095_O65.1.png', 'BP_094_BODY_36_BA.png', 'FC_092_F46.png']\n",
      "16\n"
     ]
    }
   ],
   "source": [
    "target_ls = []\n",
    "for idx, rule in enumerate(rules_ls):\n",
    "    if rule == '2-Back':\n",
    "        target_stim_name = dataframe['Stimulus'][run_rows[10*idx]]\n",
    "    elif rule == '0-Back':\n",
    "        min_range = min(run_rows[10*idx:10*idx+10])\n",
    "        max_range = max(run_rows[10*idx:10*idx+10])\n",
    "        print(min_range,max_range)\n",
    "        target_stim_name = dataframe[min_range:max_range].loc[dataframe['CorrectResponse'] == 'target','Stimulus'].iloc[0]        \n",
    "    target_ls.append(target_stim_name)\n",
    "print(target_ls)\n",
    "print(len(target_ls))"
   ]
  },
  {
   "cell_type": "code",
   "execution_count": 33,
   "id": "green-tracker",
   "metadata": {},
   "outputs": [
    {
     "name": "stdout",
     "output_type": "stream",
     "text": [
      "['PL_102_O9.1.png', 'FC_102_F103.png', 'FC_101_M100.png', 'BP_098_BODY_40_BA.png', 'TO_102_TOOL117_BA.png', 'FC_100_F101.png', 'FC_098_F100.png', 'PL_101_O89.1.png', 'FC_097_M97.png', 'TO_103_TOOL120_BA.png', 'TO_100_TOOL109_BA.png', 'TO_097_TOOL99_BA.png', 'TO_101_TOOL112_BA.png', 'TO_099_TOOL105_BA.png', 'TO_098_TOOL103_BA.png', 'FC_099_M98.png']\n"
     ]
    }
   ],
   "source": [
    "from os import listdir\n",
    "from os.path import isfile, join\n",
    "mypath = 'nback_stimuli/'\n",
    "in_folder = [f for f in listdir(mypath) if isfile(join(mypath, f)) and f.endswith('.png')]\n",
    "used_files = dataframe['Stimulus'].to_list()\n",
    "print(list(set(in_folder) - set(used_files)))"
   ]
  },
  {
   "cell_type": "code",
   "execution_count": 35,
   "id": "4f34d008-bd08-4d85-914b-39750b7ae32d",
   "metadata": {},
   "outputs": [
    {
     "data": {
      "text/plain": [
       "'\\nPL_102_O9.1.png\\nPL_101_O89.1.png\\n\\nFC_102_F103.png\\nFC_101_M100.png\\nFC_100_F101.png\\nFC_098_F100.png\\nFC_097_M97.png\\nFC_099_M98.png\\n\\nBP_098_BODY_40_BA.png\\n\\nTO_102_TOOL117_BA.png\\nTO_103_TOOL120_BA.png\\nTO_100_TOOL109_BA.png\\nTO_097_TOOL99_BA.png\\nTO_101_TOOL112_BA.png\\nTO_099_TOOL105_BA.png\\nTO_098_TOOL103_BA.png\\n'"
      ]
     },
     "execution_count": 35,
     "metadata": {},
     "output_type": "execute_result"
    }
   ],
   "source": [
    "'''\n",
    "PL_102_O9.1.png\n",
    "PL_101_O89.1.png\n",
    "\n",
    "FC_102_F103.png\n",
    "FC_101_M100.png\n",
    "FC_100_F101.png\n",
    "FC_098_F100.png\n",
    "FC_097_M97.png\n",
    "FC_099_M98.png\n",
    "\n",
    "BP_098_BODY_40_BA.png\n",
    "\n",
    "TO_102_TOOL117_BA.png\n",
    "TO_103_TOOL120_BA.png\n",
    "TO_100_TOOL109_BA.png\n",
    "TO_097_TOOL99_BA.png\n",
    "TO_101_TOOL112_BA.png\n",
    "TO_099_TOOL105_BA.png\n",
    "TO_098_TOOL103_BA.png\n",
    "'''"
   ]
  },
  {
   "cell_type": "code",
   "execution_count": null,
   "id": "67a438b2-0ce2-413e-ac9f-69648666690f",
   "metadata": {},
   "outputs": [],
   "source": []
  }
 ],
 "metadata": {
  "kernelspec": {
   "display_name": "Python 3 (ipykernel)",
   "language": "python",
   "name": "python3"
  },
  "language_info": {
   "codemirror_mode": {
    "name": "ipython",
    "version": 3
   },
   "file_extension": ".py",
   "mimetype": "text/x-python",
   "name": "python",
   "nbconvert_exporter": "python",
   "pygments_lexer": "ipython3",
   "version": "3.9.8"
  }
 },
 "nbformat": 4,
 "nbformat_minor": 5
}
