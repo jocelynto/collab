{
 "cells": [
  {
   "cell_type": "code",
   "execution_count": 4,
   "id": "several-element",
   "metadata": {},
   "outputs": [],
   "source": [
    "import pandas as pd\n",
    "import warnings"
   ]
  },
  {
   "cell_type": "code",
   "execution_count": 5,
   "id": "aboriginal-conflict",
   "metadata": {},
   "outputs": [],
   "source": [
    "pd.options.display.max_rows = 1200\n",
    "warnings.filterwarnings('ignore')"
   ]
  },
  {
   "cell_type": "code",
   "execution_count": 8,
   "id": "proud-vatican",
   "metadata": {},
   "outputs": [],
   "source": [
    "df = pd.read_csv(\"00000_Wisconsin_Card_Sorting_Task_2023-11-24_09h38.56.913.csv\")"
   ]
  },
  {
   "cell_type": "code",
   "execution_count": 9,
   "id": "respiratory-phone",
   "metadata": {},
   "outputs": [
    {
     "name": "stdout",
     "output_type": "stream",
     "text": [
      "   Score    RT  response.x  response.y  response.leftButton  \\\n",
      "0      1  3243    0.332407    0.220370                    1   \n",
      "1      1  1885    0.134259    0.218519                    1   \n",
      "\n",
      "   response.midButton  response.rightButton response.clicked_name  \\\n",
      "0                   0                     0       four_blue_stars   \n",
      "1                   0                     0   three_green_crosses   \n",
      "\n",
      "   trials.thisRepN  trials.thisTrialN  ...    rule                    card  \\\n",
      "0                0                  0  ...  number    images/4blueDots.jpg   \n",
      "1                0                  1  ...  number  images/3greenStars.jpg   \n",
      "\n",
      "               corrAns participant session                     date  \\\n",
      "0      four_blue_stars           0       1  2023-11-24_09h38.56.913   \n",
      "1  three_green_crosses           0       1  2023-11-24_09h38.56.913   \n",
      "\n",
      "                       expName  psychopyVersion     OS  frameRate  \n",
      "0  Wisconsin Card Sorting Task         2022.1.2  Win32  59.977209  \n",
      "1  Wisconsin Card Sorting Task         2022.1.2  Win32  59.977209  \n",
      "\n",
      "[2 rows x 23 columns]\n"
     ]
    }
   ],
   "source": [
    "print(df)"
   ]
  },
  {
   "cell_type": "code",
   "execution_count": null,
   "id": "geographic-bundle",
   "metadata": {},
   "outputs": [],
   "source": []
  }
 ],
 "metadata": {
  "kernelspec": {
   "display_name": "Python 3",
   "language": "python",
   "name": "python3"
  },
  "language_info": {
   "codemirror_mode": {
    "name": "ipython",
    "version": 3
   },
   "file_extension": ".py",
   "mimetype": "text/x-python",
   "name": "python",
   "nbconvert_exporter": "python",
   "pygments_lexer": "ipython3",
   "version": "3.9.1"
  }
 },
 "nbformat": 4,
 "nbformat_minor": 5
}
