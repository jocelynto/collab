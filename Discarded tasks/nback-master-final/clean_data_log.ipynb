{
 "cells": [
  {
   "cell_type": "code",
   "execution_count": 1,
   "id": "d0b6c976-34e0-4eb3-aeff-be32c719b4e4",
   "metadata": {},
   "outputs": [],
   "source": [
    "import pandas as pd\n",
    "import numpy as np\n",
    "import csv\n",
    "from os import listdir\n",
    "from os.path import isfile, join"
   ]
  },
  {
   "cell_type": "code",
   "execution_count": 2,
   "id": "0faaeae6-508c-49ad-a207-819cea5c4648",
   "metadata": {},
   "outputs": [],
   "source": [
    "mypath = 'testing/' # change folder name when necessary\n",
    "in_folder = [f for f in listdir(mypath) if isfile(join(mypath, f)) and f.endswith('.csv')]"
   ]
  },
  {
   "cell_type": "code",
   "execution_count": 5,
   "id": "7abe3b96-d70d-4e39-b639-68ec94f25c27",
   "metadata": {},
   "outputs": [
    {
     "ename": "KeyError",
     "evalue": "'key_resp_1_1.rt'",
     "output_type": "error",
     "traceback": [
      "\u001b[1;31m---------------------------------------------------------------------------\u001b[0m",
      "\u001b[1;31mKeyError\u001b[0m                                  Traceback (most recent call last)",
      "File \u001b[1;32m~\\AppData\\Local\\Programs\\Python\\Python39\\lib\\site-packages\\pandas\\core\\indexes\\base.py:3791\u001b[0m, in \u001b[0;36mIndex.get_loc\u001b[1;34m(self, key)\u001b[0m\n\u001b[0;32m   3790\u001b[0m \u001b[38;5;28;01mtry\u001b[39;00m:\n\u001b[1;32m-> 3791\u001b[0m     \u001b[38;5;28;01mreturn\u001b[39;00m \u001b[38;5;28;43mself\u001b[39;49m\u001b[38;5;241;43m.\u001b[39;49m\u001b[43m_engine\u001b[49m\u001b[38;5;241;43m.\u001b[39;49m\u001b[43mget_loc\u001b[49m\u001b[43m(\u001b[49m\u001b[43mcasted_key\u001b[49m\u001b[43m)\u001b[49m\n\u001b[0;32m   3792\u001b[0m \u001b[38;5;28;01mexcept\u001b[39;00m \u001b[38;5;167;01mKeyError\u001b[39;00m \u001b[38;5;28;01mas\u001b[39;00m err:\n",
      "File \u001b[1;32mindex.pyx:152\u001b[0m, in \u001b[0;36mpandas._libs.index.IndexEngine.get_loc\u001b[1;34m()\u001b[0m\n",
      "File \u001b[1;32mindex.pyx:181\u001b[0m, in \u001b[0;36mpandas._libs.index.IndexEngine.get_loc\u001b[1;34m()\u001b[0m\n",
      "File \u001b[1;32mpandas\\_libs\\hashtable_class_helper.pxi:7080\u001b[0m, in \u001b[0;36mpandas._libs.hashtable.PyObjectHashTable.get_item\u001b[1;34m()\u001b[0m\n",
      "File \u001b[1;32mpandas\\_libs\\hashtable_class_helper.pxi:7088\u001b[0m, in \u001b[0;36mpandas._libs.hashtable.PyObjectHashTable.get_item\u001b[1;34m()\u001b[0m\n",
      "\u001b[1;31mKeyError\u001b[0m: 'key_resp_1_1.rt'",
      "\nThe above exception was the direct cause of the following exception:\n",
      "\u001b[1;31mKeyError\u001b[0m                                  Traceback (most recent call last)",
      "Cell \u001b[1;32mIn[5], line 42\u001b[0m\n\u001b[0;32m     40\u001b[0m trial_resp \u001b[38;5;241m=\u001b[39m \u001b[38;5;124mf\u001b[39m\u001b[38;5;124m'\u001b[39m\u001b[38;5;124mkey_resp_\u001b[39m\u001b[38;5;132;01m{\u001b[39;00mblock\u001b[38;5;241m%\u001b[39m\u001b[38;5;241m2\u001b[39m\u001b[38;5;241m+\u001b[39m\u001b[38;5;241m1\u001b[39m\u001b[38;5;132;01m}\u001b[39;00m\u001b[38;5;124m_\u001b[39m\u001b[38;5;132;01m{\u001b[39;00m(trial\u001b[38;5;241m+\u001b[39m\u001b[38;5;241m1\u001b[39m)\u001b[38;5;132;01m}\u001b[39;00m\u001b[38;5;124m'\u001b[39m\n\u001b[0;32m     41\u001b[0m resp_key \u001b[38;5;241m=\u001b[39m df[trial_resp\u001b[38;5;241m+\u001b[39m\u001b[38;5;124m'\u001b[39m\u001b[38;5;124m.keys\u001b[39m\u001b[38;5;124m'\u001b[39m]\u001b[38;5;241m.\u001b[39mtolist()[block]\n\u001b[1;32m---> 42\u001b[0m resp_rt \u001b[38;5;241m=\u001b[39m \u001b[43mdf\u001b[49m\u001b[43m[\u001b[49m\u001b[43mtrial_resp\u001b[49m\u001b[38;5;241;43m+\u001b[39;49m\u001b[38;5;124;43m'\u001b[39;49m\u001b[38;5;124;43m.rt\u001b[39;49m\u001b[38;5;124;43m'\u001b[39;49m\u001b[43m]\u001b[49m\u001b[38;5;241m.\u001b[39mtolist()[block]\n\u001b[0;32m     43\u001b[0m corr_var \u001b[38;5;241m=\u001b[39m \u001b[38;5;241m1\u001b[39m \u001b[38;5;28;01mif\u001b[39;00m resp_key \u001b[38;5;241m==\u001b[39m corr_ans \u001b[38;5;28;01melse\u001b[39;00m \u001b[38;5;241m0\u001b[39m\n\u001b[0;32m     45\u001b[0m \u001b[38;5;28;01mif\u001b[39;00m block\u001b[38;5;241m%\u001b[39m\u001b[38;5;241m2\u001b[39m \u001b[38;5;241m==\u001b[39m \u001b[38;5;241m0\u001b[39m \u001b[38;5;129;01mand\u001b[39;00m trial \u001b[38;5;241m==\u001b[39m \u001b[38;5;241m0\u001b[39m:\n",
      "File \u001b[1;32m~\\AppData\\Local\\Programs\\Python\\Python39\\lib\\site-packages\\pandas\\core\\frame.py:3893\u001b[0m, in \u001b[0;36mDataFrame.__getitem__\u001b[1;34m(self, key)\u001b[0m\n\u001b[0;32m   3891\u001b[0m \u001b[38;5;28;01mif\u001b[39;00m \u001b[38;5;28mself\u001b[39m\u001b[38;5;241m.\u001b[39mcolumns\u001b[38;5;241m.\u001b[39mnlevels \u001b[38;5;241m>\u001b[39m \u001b[38;5;241m1\u001b[39m:\n\u001b[0;32m   3892\u001b[0m     \u001b[38;5;28;01mreturn\u001b[39;00m \u001b[38;5;28mself\u001b[39m\u001b[38;5;241m.\u001b[39m_getitem_multilevel(key)\n\u001b[1;32m-> 3893\u001b[0m indexer \u001b[38;5;241m=\u001b[39m \u001b[38;5;28;43mself\u001b[39;49m\u001b[38;5;241;43m.\u001b[39;49m\u001b[43mcolumns\u001b[49m\u001b[38;5;241;43m.\u001b[39;49m\u001b[43mget_loc\u001b[49m\u001b[43m(\u001b[49m\u001b[43mkey\u001b[49m\u001b[43m)\u001b[49m\n\u001b[0;32m   3894\u001b[0m \u001b[38;5;28;01mif\u001b[39;00m is_integer(indexer):\n\u001b[0;32m   3895\u001b[0m     indexer \u001b[38;5;241m=\u001b[39m [indexer]\n",
      "File \u001b[1;32m~\\AppData\\Local\\Programs\\Python\\Python39\\lib\\site-packages\\pandas\\core\\indexes\\base.py:3798\u001b[0m, in \u001b[0;36mIndex.get_loc\u001b[1;34m(self, key)\u001b[0m\n\u001b[0;32m   3793\u001b[0m     \u001b[38;5;28;01mif\u001b[39;00m \u001b[38;5;28misinstance\u001b[39m(casted_key, \u001b[38;5;28mslice\u001b[39m) \u001b[38;5;129;01mor\u001b[39;00m (\n\u001b[0;32m   3794\u001b[0m         \u001b[38;5;28misinstance\u001b[39m(casted_key, abc\u001b[38;5;241m.\u001b[39mIterable)\n\u001b[0;32m   3795\u001b[0m         \u001b[38;5;129;01mand\u001b[39;00m \u001b[38;5;28many\u001b[39m(\u001b[38;5;28misinstance\u001b[39m(x, \u001b[38;5;28mslice\u001b[39m) \u001b[38;5;28;01mfor\u001b[39;00m x \u001b[38;5;129;01min\u001b[39;00m casted_key)\n\u001b[0;32m   3796\u001b[0m     ):\n\u001b[0;32m   3797\u001b[0m         \u001b[38;5;28;01mraise\u001b[39;00m InvalidIndexError(key)\n\u001b[1;32m-> 3798\u001b[0m     \u001b[38;5;28;01mraise\u001b[39;00m \u001b[38;5;167;01mKeyError\u001b[39;00m(key) \u001b[38;5;28;01mfrom\u001b[39;00m \u001b[38;5;21;01merr\u001b[39;00m\n\u001b[0;32m   3799\u001b[0m \u001b[38;5;28;01mexcept\u001b[39;00m \u001b[38;5;167;01mTypeError\u001b[39;00m:\n\u001b[0;32m   3800\u001b[0m     \u001b[38;5;66;03m# If we have a listlike key, _check_indexing_error will raise\u001b[39;00m\n\u001b[0;32m   3801\u001b[0m     \u001b[38;5;66;03m#  InvalidIndexError. Otherwise we fall through and re-raise\u001b[39;00m\n\u001b[0;32m   3802\u001b[0m     \u001b[38;5;66;03m#  the TypeError.\u001b[39;00m\n\u001b[0;32m   3803\u001b[0m     \u001b[38;5;28mself\u001b[39m\u001b[38;5;241m.\u001b[39m_check_indexing_error(key)\n",
      "\u001b[1;31mKeyError\u001b[0m: 'key_resp_1_1.rt'"
     ]
    }
   ],
   "source": [
    "trial_types = pd.read_excel(\"trialTypes_nback.xlsx\")\n",
    "\n",
    "col_names = ['run', 'block', 'block_type', 'stim_type', 'stimulus', 'target', 'corr_ans', \\\n",
    "             'stim_onset', 'stim_offset', 'stim_duration', 'iti_onset', 'iti_offset', 'iti_duration', \\\n",
    "             'key_resp', 'key_resp_rt', 'corr_var', \\\n",
    "             'instr_onset', 'instr_offset', 'instr_duration', 'rest_onset', 'rest_offset', 'rest_duration']\n",
    "\n",
    "for file_no in range(len(in_folder)):\n",
    "    \n",
    "    with open(mypath+in_folder[file_no],\"r\") as file:\n",
    "        df = pd.read_csv(file)\n",
    "        total_runs = df['run_no'].dropna().unique().astype(int)\n",
    "\n",
    "    with open (f'data/cleaned_logs/{in_folder[file_no]}.csv', 'w', newline='') as nf:\n",
    "        writer = csv.writer(nf, delimiter=',')\n",
    "        writer.writerow(col_names)\n",
    "\n",
    "        for run in range(2):\n",
    "            for block in range(8):\n",
    "                for trial in range(10):\n",
    "                    run_no = total_runs[run]\n",
    "                    trial_info = trial_types.loc[[(run_no-1)*80+block*10+trial]]\n",
    "                    block_no = trial_info['Block'].item()\n",
    "                    block_type = trial_info['BlockType'].item()\n",
    "                    stim_type = trial_info['StimType'].item()\n",
    "                    stimulus = trial_info['Stimulus'].item()\n",
    "                    target_type = trial_info['CorrectResponse'].item()\n",
    "                    corr_ans = trial_info['corrAns'].item()\n",
    "        \n",
    "                    trial_stim = f'image_{block%2+1}_{(trial+1)}'\n",
    "                    stim_onset = df[trial_stim+'.started'].dropna().tolist()[block]\n",
    "                    stim_offset = df[trial_stim+'.stopped'].dropna().tolist()[block]\n",
    "                    stim_duration = np.subtract(stim_offset, stim_onset)\n",
    "        \n",
    "                    trial_iti = f'trial_fixation_{block%2+1}_{(trial+1)}'\n",
    "                    iti_onset = df[trial_iti+'.started'].dropna().tolist()[block]\n",
    "                    iti_offset = df[trial_iti+'.stopped'].dropna().tolist()[block]\n",
    "                    iti_duration = np.subtract(iti_offset, iti_onset)\n",
    "        \n",
    "                    trial_resp = f'key_resp_{block%2+1}_{(trial+1)}'\n",
    "                    resp_key = df[trial_resp+'.keys'].tolist()[block]\n",
    "                    resp_rt = df[trial_resp+'.rt'].tolist()[block]\n",
    "                    corr_var = 1 if resp_key == corr_ans else 0\n",
    "        \n",
    "                    if block%2 == 0 and trial == 0:\n",
    "                        block_instr = f'prep_instr_1'\n",
    "                        block_instr_onset = df[block_instr+'.started'].dropna().tolist()[block]\n",
    "                        block_instr_offset = df[block_instr+'.stopped'].dropna().tolist()[block]\n",
    "                        block_instr_duration = np.subtract(block_instr_offset, block_instr_onset)\n",
    "                    elif block%2 == 1 and trial == 0:\n",
    "                        block_instr = f'prep_instr_2'\n",
    "                        block_instr_onset = df[block_instr+'.started'].dropna().tolist()[block]\n",
    "                        block_instr_offset = df[block_instr+'.stopped'].dropna().tolist()[block]\n",
    "                        block_instr_duration = np.subtract(block_instr_offset, block_instr_onset)\n",
    "                    else:\n",
    "                        block_instr_onset = None\n",
    "                        block_instr_offset = None\n",
    "                        block_instr_duration = None\n",
    "        \n",
    "                    if block%2 == 1 and trial == 9:\n",
    "                        block_rest = 'rest_txt'\n",
    "                        block_rest_onset = df[block_rest+'.started'].dropna().tolist()[block]\n",
    "                        block_rest_offset = df[block_rest+'.stopped'].dropna().tolist()[block]\n",
    "                        block_rest_duration = np.subtract(block_rest_offset, block_rest_onset)\n",
    "                    else:\n",
    "                        block_rest_onset = None\n",
    "                        block_rest_offset = None\n",
    "                        block_rest_duration = None\n",
    "\n",
    "                    line = [run_no, block_no, block_type, stim_type, stimulus, target_type, corr_ans, \\\n",
    "                            stim_onset, stim_offset, stim_duration, iti_onset, iti_offset, iti_duration, \\\n",
    "                            resp_key, resp_rt, corr_var, \\\n",
    "                            block_instr_onset, block_instr_offset, block_instr_duration, \\\n",
    "                            block_rest_onset, block_rest_offset, block_rest_duration]\n",
    "                    line = [str(i) for i in line]\n",
    "                    line = ','.join(line)\n",
    "                    nf.write(line + '\\n')"
   ]
  },
  {
   "cell_type": "code",
   "execution_count": null,
   "id": "eabd9cf7-360e-4a95-8717-1d9d5b28bd3b",
   "metadata": {},
   "outputs": [],
   "source": []
  }
 ],
 "metadata": {
  "kernelspec": {
   "display_name": "Python 3 (ipykernel)",
   "language": "python",
   "name": "python3"
  },
  "language_info": {
   "codemirror_mode": {
    "name": "ipython",
    "version": 3
   },
   "file_extension": ".py",
   "mimetype": "text/x-python",
   "name": "python",
   "nbconvert_exporter": "python",
   "pygments_lexer": "ipython3",
   "version": "3.9.8"
  }
 },
 "nbformat": 4,
 "nbformat_minor": 5
}
