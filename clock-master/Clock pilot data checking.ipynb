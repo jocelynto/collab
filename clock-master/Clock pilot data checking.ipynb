{
 "cells": [
  {
   "cell_type": "code",
   "execution_count": 1,
   "id": "molecular-sender",
   "metadata": {},
   "outputs": [],
   "source": [
    "import pandas as pd\n",
    "import matplotlib.pyplot as plt\n",
    "import numpy as np"
   ]
  },
  {
   "cell_type": "code",
   "execution_count": 2,
   "id": "figured-victoria",
   "metadata": {},
   "outputs": [],
   "source": [
    "pilot_data = ['Gianna_ZB216_clock-master_2024-02-27_14h09.55.611.csv',\\\n",
    "             'Liu_Teng_ZB216_clock-master_2024-02-27_16h07.01.536.csv',\\\n",
    "             'Sabrina_ZB216_clock-master_2024-02-27_16h34.31.718.csv']"
   ]
  },
  {
   "cell_type": "code",
   "execution_count": 4,
   "id": "adolescent-designer",
   "metadata": {},
   "outputs": [],
   "source": [
    "rt_ls = []\n",
    "\n",
    "for idx in range(len(pilot_data)):\n",
    "    \n",
    "    with open('data/'+pilot_data[idx], 'r', encoding='utf8') as file:\n",
    "        \n",
    "        df = pd.read_csv(file)\n",
    "        rt = df.loc[df['key_resp.corr'] == 1, 'key_resp.rt'].mean()\n",
    "        \n",
    "    rt_ls.append(rt)"
   ]
  },
  {
   "cell_type": "code",
   "execution_count": 5,
   "id": "backed-optimization",
   "metadata": {},
   "outputs": [
    {
     "data": {
      "text/plain": [
       "[1.3875672681818183, 1.4113268014285716, 1.6316163806451613]"
      ]
     },
     "execution_count": 5,
     "metadata": {},
     "output_type": "execute_result"
    }
   ],
   "source": [
    "rt_ls"
   ]
  },
  {
   "cell_type": "code",
   "execution_count": null,
   "id": "interesting-slide",
   "metadata": {},
   "outputs": [],
   "source": []
  }
 ],
 "metadata": {
  "kernelspec": {
   "display_name": "Python 3",
   "language": "python",
   "name": "python3"
  },
  "language_info": {
   "codemirror_mode": {
    "name": "ipython",
    "version": 3
   },
   "file_extension": ".py",
   "mimetype": "text/x-python",
   "name": "python",
   "nbconvert_exporter": "python",
   "pygments_lexer": "ipython3",
   "version": "3.9.1"
  }
 },
 "nbformat": 4,
 "nbformat_minor": 5
}
